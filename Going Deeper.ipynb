{
 "cells": [
  {
   "cell_type": "markdown",
   "metadata": {},
   "source": [
    "# Inception\n",
    "\n",
    "Agora que já aprendemos como funciona uma CNN e alguns dos seus tipos de layer, vamos ver uma estrutura bastante utilizada em redes neurais realmente profundas: o módulo inception."
   ]
  },
  {
   "cell_type": "code",
   "execution_count": 1,
   "metadata": {
    "collapsed": true
   },
   "outputs": [],
   "source": [
    "def create_inception_module(inputs, conv_11_filters, conv_11_33_filters, conv_33_filters,\n",
    "                        conv_11_55_filters, conv_55_filters, pool_11_conv_filters):\n",
    "\n",
    "    with tf.variable_scope(\"conv_1x1\"):\n",
    "        conv11 = layers.conv2d(inputs, conv_11_filters, [1,1], stride = 1)\n",
    "\n",
    "    with tf.variable_scope(\"conv_1x1_3x3\"):\n",
    "        conv_11_33  = layers.conv2d(inputs, conv_11_33_filters, [1,1], stride = 1)\n",
    "        conv33 = layers.conv2d(conv_11_33, conv_33_filters, [3,3], stride = 1)\n",
    "\n",
    "    with tf.variable_scope(\"conv_1x1_5x5\"):\n",
    "        conv_11_55 = layers.conv2d(inputs, conv_11_55_filters, [1,1], stride = 1)\n",
    "        conv55 = layers.conv2d(conv_11_55, conv_55_filters, [5,5], stride = 1)\n",
    "\n",
    "    with tf.variable_scope(\"pool_conv\"):\n",
    "        maxpool_11 = layers.max_pool2d(inputs, [3,3], stride = 1, padding = 'SAME')\n",
    "        pool_conv11 = layers.conv2d(maxpool_11, pool_11_conv_filters, [1,1], stride = 1)\n",
    "\n",
    "    return tf.concat([conv11, conv33, conv55, pool_conv11], 3)"
   ]
  },
  {
   "cell_type": "markdown",
   "metadata": {},
   "source": [
    "# Que tentar implementar a GoogLe Net?\n",
    "\n",
    "https://arxiv.org/pdf/1409.4842.pdf"
   ]
  },
  {
   "cell_type": "code",
   "execution_count": null,
   "metadata": {
    "collapsed": true
   },
   "outputs": [],
   "source": []
  }
 ],
 "metadata": {
  "kernelspec": {
   "display_name": "Python 3",
   "language": "python",
   "name": "python3"
  },
  "language_info": {
   "codemirror_mode": {
    "name": "ipython",
    "version": 3
   },
   "file_extension": ".py",
   "mimetype": "text/x-python",
   "name": "python",
   "nbconvert_exporter": "python",
   "pygments_lexer": "ipython3",
   "version": "3.5.1"
  }
 },
 "nbformat": 4,
 "nbformat_minor": 2
}
